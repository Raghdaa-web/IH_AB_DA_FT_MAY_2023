{
 "cells": [
  {
   "cell_type": "code",
   "execution_count": 1,
   "id": "7afb17e9",
   "metadata": {},
   "outputs": [],
   "source": [
    "import numpy as np"
   ]
  },
  {
   "cell_type": "code",
   "execution_count": 4,
   "id": "3fe2d1d1",
   "metadata": {},
   "outputs": [
    {
     "name": "stdout",
     "output_type": "stream",
     "text": [
      "[0. 0. 0. 0. 0. 0. 0. 0. 0. 0.]\n"
     ]
    }
   ],
   "source": [
    "null_vector = np.zeros(10)\n",
    "print(null_vector)"
   ]
  },
  {
   "cell_type": "code",
   "execution_count": 5,
   "id": "2182373b",
   "metadata": {},
   "outputs": [
    {
     "name": "stdout",
     "output_type": "stream",
     "text": [
      "[0. 0. 0. 0. 1. 0. 0. 0. 0. 0.]\n"
     ]
    }
   ],
   "source": [
    "null_vector = np.zeros(10)\n",
    "null_vector[4] = 1\n",
    "print(null_vector)"
   ]
  },
  {
   "cell_type": "code",
   "execution_count": 6,
   "id": "fa7f0b22",
   "metadata": {},
   "outputs": [
    {
     "name": "stdout",
     "output_type": "stream",
     "text": [
      "[10 11 12 13 14 15 16 17 18 19 20 21 22 23 24 25 26 27 28 29 30 31 32 33\n",
      " 34 35 36 37 38 39 40 41 42 43 44 45 46 47 48 49]\n"
     ]
    }
   ],
   "source": [
    "vector = np.arange(10, 50)\n",
    "print(vector)"
   ]
  },
  {
   "cell_type": "code",
   "execution_count": 8,
   "id": "63516717",
   "metadata": {},
   "outputs": [
    {
     "name": "stdout",
     "output_type": "stream",
     "text": [
      "[[0.29701326 0.66114022 0.79317107]\n",
      " [0.62530613 0.0369679  0.5263362 ]\n",
      " [0.90208405 0.89653546 0.30026371]]\n"
     ]
    }
   ],
   "source": [
    "vector = np.arange(0,9)\n",
    "lst = np.random.random((3,3))\n",
    "print(lst)"
   ]
  },
  {
   "cell_type": "code",
   "execution_count": 10,
   "id": "618ec3b1",
   "metadata": {},
   "outputs": [
    {
     "data": {
      "text/plain": [
       "(array([0, 1, 4]),)"
      ]
     },
     "execution_count": 10,
     "metadata": {},
     "output_type": "execute_result"
    }
   ],
   "source": [
    "\n",
    "new_lst = [1,2,0,0,4,0] \n",
    "lst = np.nonzero(new_lst)\n",
    "lst"
   ]
  },
  {
   "cell_type": "code",
   "execution_count": 11,
   "id": "52c1085d",
   "metadata": {},
   "outputs": [
    {
     "name": "stdout",
     "output_type": "stream",
     "text": [
      "[[1. 0. 0.]\n",
      " [0. 1. 0.]\n",
      " [0. 0. 1.]]\n"
     ]
    }
   ],
   "source": [
    "identity_matrix = np.eye(3)\n",
    "print(identity_matrix)"
   ]
  },
  {
   "cell_type": "code",
   "execution_count": 13,
   "id": "9170569a",
   "metadata": {},
   "outputs": [
    {
     "name": "stdout",
     "output_type": "stream",
     "text": [
      "[[[0.22846288 0.45746305 0.12397928]\n",
      "  [0.15117469 0.89414569 0.02997595]\n",
      "  [0.94521482 0.63175948 0.71734376]]\n",
      "\n",
      " [[0.67024818 0.62974562 0.89402256]\n",
      "  [0.30663836 0.99174446 0.98244595]\n",
      "  [0.78904636 0.80710812 0.03352508]]\n",
      "\n",
      " [[0.2383553  0.80783892 0.01638641]\n",
      "  [0.87029204 0.52197389 0.6990705 ]\n",
      "  [0.53317018 0.46453013 0.07265825]]]\n"
     ]
    }
   ],
   "source": [
    "    \n",
    "lst = np.random.random((3,3,3))\n",
    "print(lst)"
   ]
  },
  {
   "cell_type": "code",
   "execution_count": 14,
   "id": "6841b21d",
   "metadata": {},
   "outputs": [
    {
     "name": "stdout",
     "output_type": "stream",
     "text": [
      "[[0.56057711 0.04516818 0.81277858 0.96879666 0.31440063 0.05033812\n",
      "  0.07273288 0.30241378 0.69245815 0.30558833]\n",
      " [0.14402009 0.42843919 0.16429313 0.97771014 0.51682315 0.17074139\n",
      "  0.56024216 0.35456245 0.79028832 0.91855815]\n",
      " [0.56086859 0.60491877 0.88263939 0.493668   0.74780035 0.48887593\n",
      "  0.32344575 0.20447018 0.78321464 0.89325957]\n",
      " [0.29257866 0.24242034 0.26464166 0.29556167 0.03499607 0.75720589\n",
      "  0.36952897 0.82901705 0.08500624 0.95664133]\n",
      " [0.94086086 0.86501433 0.71845052 0.77632695 0.28972507 0.10154733\n",
      "  0.86305226 0.39779283 0.77706415 0.06942746]\n",
      " [0.99529167 0.51663054 0.65385502 0.72042988 0.69679213 0.22968009\n",
      "  0.70019417 0.57312282 0.86577945 0.67249173]\n",
      " [0.48829619 0.54267275 0.98585995 0.14778796 0.36841972 0.33937969\n",
      "  0.58798532 0.66979482 0.49065187 0.71952242]\n",
      " [0.37358991 0.7764336  0.99492785 0.07747235 0.50123091 0.31084009\n",
      "  0.43947032 0.36290345 0.04751861 0.09487904]\n",
      " [0.78279084 0.84636507 0.84279411 0.35975494 0.67423167 0.25376771\n",
      "  0.61880783 0.23346022 0.03565054 0.97137963]\n",
      " [0.83108726 0.45864354 0.4285099  0.62252368 0.42819892 0.20593657\n",
      "  0.39637664 0.49928576 0.95768834 0.46022132]]\n"
     ]
    }
   ],
   "source": [
    "lst = np.random.random((10,10))\n",
    "print(lst)"
   ]
  },
  {
   "cell_type": "code",
   "execution_count": 18,
   "id": "470e5486",
   "metadata": {},
   "outputs": [
    {
     "name": "stdout",
     "output_type": "stream",
     "text": [
      "Minimum value: 0.034996070054720274\n",
      "Maximum value: 0.99529167260478\n"
     ]
    }
   ],
   "source": [
    "min_value = np.min(lst)\n",
    "max_value = np.max(lst)\n",
    "\n",
    "print(\"Minimum value:\", min_value)\n",
    "print(\"Maximum value:\", max_value)\n"
   ]
  },
  {
   "cell_type": "code",
   "execution_count": null,
   "id": "d1b88a3a",
   "metadata": {},
   "outputs": [],
   "source": []
  }
 ],
 "metadata": {
  "kernelspec": {
   "display_name": "Python 3 (ipykernel)",
   "language": "python",
   "name": "python3"
  },
  "language_info": {
   "codemirror_mode": {
    "name": "ipython",
    "version": 3
   },
   "file_extension": ".py",
   "mimetype": "text/x-python",
   "name": "python",
   "nbconvert_exporter": "python",
   "pygments_lexer": "ipython3",
   "version": "3.9.13"
  }
 },
 "nbformat": 4,
 "nbformat_minor": 5
}
